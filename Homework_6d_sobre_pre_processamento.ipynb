{
  "nbformat": 4,
  "nbformat_minor": 0,
  "metadata": {
    "colab": {
      "provenance": [],
      "include_colab_link": true
    },
    "kernelspec": {
      "name": "python3",
      "display_name": "Python 3"
    },
    "language_info": {
      "name": "python"
    }
  },
  "cells": [
    {
      "cell_type": "markdown",
      "metadata": {
        "id": "view-in-github",
        "colab_type": "text"
      },
      "source": [
        "<a href=\"https://colab.research.google.com/github/Rafaelcarvalho320/Homework6c-d/blob/main/Homework_6d_sobre_pre_processamento.ipynb\" target=\"_parent\"><img src=\"https://colab.research.google.com/assets/colab-badge.svg\" alt=\"Open In Colab\"/></a>"
      ]
    },
    {
      "cell_type": "markdown",
      "source": [
        "\n",
        "**Homework_6d_sobre_pre_processamento**\n",
        "\n",
        "Arienilce Sacramento - 201706840081\n",
        "\n",
        "Rafael Carvalho - 201706840055\n",
        "\n",
        "Yasmim Miranda - 201906840010\n",
        "\n",
        "\n",
        "\n",
        "\n",
        "Dataset usado: estudante_201706840055"
      ],
      "metadata": {
        "id": "zVAMjabvM2b_"
      }
    },
    {
      "cell_type": "code",
      "execution_count": null,
      "metadata": {
        "colab": {
          "base_uri": "https://localhost:8080/"
        },
        "id": "HAEGGnRXMFpW",
        "outputId": "4712fea8-b798-4299-ff2b-3a4e7ae3ec21"
      },
      "outputs": [
        {
          "output_type": "stream",
          "name": "stdout",
          "text": [
            "Médias:  [-250.      -1.125    0.5  ]\n",
            "Desvios padrão:  [2.86138079e+03 2.80345769e+00 5.00000000e-01]\n",
            "Conjunto de teste normalizado:\n",
            "[[-1.31055608 -1.02551931 -1.        ]\n",
            " [-0.61159284  0.0445878  -1.        ]\n",
            " [ 0.08737041 -0.66881694  1.        ]\n",
            " [ 1.83477852  2.18480201  1.        ]\n",
            " [ 0.43685203  2.18480201  1.        ]]\n",
            "\n",
            "Conjunto de validação normalizado:\n",
            "[[-0.61159284  0.40129017 -1.        ]\n",
            " [ 0.78633365  0.40129017 -1.        ]\n",
            " [ 0.08737041  0.40129017  1.        ]\n",
            " [ 1.4852969   1.47139727  1.        ]]\n"
          ]
        }
      ],
      "source": [
        "import numpy as np\n",
        "\n",
        "# Conjunto de treino\n",
        "X_train = np.array([\n",
        "    [2000,-1,0],\n",
        "    [2000,-1,0],\n",
        "    [-2000,4,0],\n",
        "    [-4000,-3,0],\n",
        "    [2000,-5,1],\n",
        "    [3000,-4,1],\n",
        "    [0,2,1],\n",
        "    [-5000,-1,1]\n",
        "])\n",
        "\n",
        "# Calcular média e desvio padrão de cada feature do conjunto de treino\n",
        "means = X_train.mean(axis=0)\n",
        "stds = X_train.std(axis=0)\n",
        "\n",
        "# Imprimir média e desvio padrão de cada feature\n",
        "print(\"Médias: \", means)\n",
        "print(\"Desvios padrão: \", stds)\n",
        "\n",
        "# Conjunto de teste\n",
        "X_test = np.array([\n",
        "    [-4000,-4,0],\n",
        "    [-2000,-1,0],\n",
        "    [0,-3,1],\n",
        "    [5000,5,1],\n",
        "    [1000,5,1]\n",
        "])\n",
        "\n",
        "# Normalizar conjunto de teste\n",
        "X_test_normalized = (X_test - means) / stds\n",
        "\n",
        "\n",
        "# Conjunto de validação\n",
        "X_val = np.array([\n",
        "    [-2000,0,0],\n",
        "    [2000,0,0],\n",
        "    [0,0,1],\n",
        "    [4000,3,1]\n",
        "])\n",
        "\n",
        "# Normalizar conjunto de validação\n",
        "X_val_normalized = (X_val - means) / stds\n",
        "\n",
        "# Imprimir conjuntos normalizados\n",
        "print(\"Conjunto de teste normalizado:\")\n",
        "print(X_test_normalized)\n",
        "print()\n",
        "\n",
        "print(\"Conjunto de validação normalizado:\")\n",
        "print(X_val_normalized)\n"
      ]
    }
  ]
}